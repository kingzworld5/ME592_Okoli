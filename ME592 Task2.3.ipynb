{
 "cells": [
  {
   "cell_type": "code",
   "execution_count": 1,
   "id": "25eabfaa-a2d7-4b7e-b54a-ae233b4f51ac",
   "metadata": {
    "collapsed": true,
    "jupyter": {
     "outputs_hidden": true
    }
   },
   "outputs": [
    {
     "name": "stdout",
     "output_type": "stream",
     "text": [
      "Requirement already satisfied: ucimlrepo in ./.conda/envs/my5920_env/lib/python3.11/site-packages (0.0.7)\n",
      "Requirement already satisfied: pandas>=1.0.0 in ./.conda/envs/my5920_env/lib/python3.11/site-packages (from ucimlrepo) (2.2.3)\n",
      "Requirement already satisfied: certifi>=2020.12.5 in ./.conda/envs/my5920_env/lib/python3.11/site-packages (from ucimlrepo) (2025.1.31)\n",
      "Requirement already satisfied: numpy>=1.23.2 in ./.conda/envs/my5920_env/lib/python3.11/site-packages (from pandas>=1.0.0->ucimlrepo) (2.2.3)\n",
      "Requirement already satisfied: python-dateutil>=2.8.2 in ./.conda/envs/my5920_env/lib/python3.11/site-packages (from pandas>=1.0.0->ucimlrepo) (2.9.0.post0)\n",
      "Requirement already satisfied: pytz>=2020.1 in ./.conda/envs/my5920_env/lib/python3.11/site-packages (from pandas>=1.0.0->ucimlrepo) (2025.1)\n",
      "Requirement already satisfied: tzdata>=2022.7 in ./.conda/envs/my5920_env/lib/python3.11/site-packages (from pandas>=1.0.0->ucimlrepo) (2025.1)\n",
      "Requirement already satisfied: six>=1.5 in ./.conda/envs/my5920_env/lib/python3.11/site-packages (from python-dateutil>=2.8.2->pandas>=1.0.0->ucimlrepo) (1.16.0)\n",
      "Note: you may need to restart the kernel to use updated packages.\n"
     ]
    }
   ],
   "source": [
    "pip install ucimlrepo"
   ]
  },
  {
   "cell_type": "code",
   "execution_count": 2,
   "id": "fdb0ce85-4f0e-4d5a-ae31-fe16832c092b",
   "metadata": {},
   "outputs": [],
   "source": [
    "from ucimlrepo import fetch_ucirepo"
   ]
  },
  {
   "cell_type": "code",
   "execution_count": 3,
   "id": "7c8e71fa-3357-438e-9e22-3c27a9c77bcb",
   "metadata": {
    "collapsed": true,
    "jupyter": {
     "outputs_hidden": true
    }
   },
   "outputs": [
    {
     "name": "stdout",
     "output_type": "stream",
     "text": [
      "Requirement already satisfied: pandas in ./.conda/envs/my5920_env/lib/python3.11/site-packages (2.2.3)\n",
      "Requirement already satisfied: scipy in ./.conda/envs/my5920_env/lib/python3.11/site-packages (1.15.2)\n",
      "Requirement already satisfied: numpy>=1.23.2 in ./.conda/envs/my5920_env/lib/python3.11/site-packages (from pandas) (2.2.3)\n",
      "Requirement already satisfied: python-dateutil>=2.8.2 in ./.conda/envs/my5920_env/lib/python3.11/site-packages (from pandas) (2.9.0.post0)\n",
      "Requirement already satisfied: pytz>=2020.1 in ./.conda/envs/my5920_env/lib/python3.11/site-packages (from pandas) (2025.1)\n",
      "Requirement already satisfied: tzdata>=2022.7 in ./.conda/envs/my5920_env/lib/python3.11/site-packages (from pandas) (2025.1)\n",
      "Requirement already satisfied: six>=1.5 in ./.conda/envs/my5920_env/lib/python3.11/site-packages (from python-dateutil>=2.8.2->pandas) (1.16.0)\n",
      "Note: you may need to restart the kernel to use updated packages.\n"
     ]
    }
   ],
   "source": [
    "pip install pandas scipy"
   ]
  },
  {
   "cell_type": "code",
   "execution_count": 4,
   "id": "7d8d405a-77df-4842-8bc0-478cba08dfe4",
   "metadata": {},
   "outputs": [],
   "source": [
    "import pandas as pd\n",
    "from scipy.stats import kurtosis, skew"
   ]
  },
  {
   "cell_type": "code",
   "execution_count": null,
   "id": "013c5627-d470-47c5-8d5c-0b8899cfb8fa",
   "metadata": {},
   "outputs": [],
   "source": []
  },
  {
   "cell_type": "code",
   "execution_count": 5,
   "id": "2d06eebe-32ff-4fd9-9ae5-6fca49bb9236",
   "metadata": {},
   "outputs": [],
   "source": [
    "#fetcg dataset\n",
    "airfoil_self_noise = fetch_ucirepo(id=291)"
   ]
  },
  {
   "cell_type": "code",
   "execution_count": 6,
   "id": "dfcbc04c-ea07-4bdc-a341-0b460237be2d",
   "metadata": {},
   "outputs": [],
   "source": [
    "#data (as pandas dataframes)\n",
    "X = airfoil_self_noise.data.features\n",
    "y = airfoil_self_noise.data.targets"
   ]
  },
  {
   "cell_type": "code",
   "execution_count": 7,
   "id": "38d9025d-3bfd-4c49-aa3e-a368c8b341ba",
   "metadata": {},
   "outputs": [
    {
     "name": "stdout",
     "output_type": "stream",
     "text": [
      "{'uci_id': 291, 'name': 'Airfoil Self-Noise', 'repository_url': 'https://archive.ics.uci.edu/dataset/291/airfoil+self+noise', 'data_url': 'https://archive.ics.uci.edu/static/public/291/data.csv', 'abstract': 'NASA data set, obtained from a series of aerodynamic and acoustic tests of two and three-dimensional airfoil blade sections conducted in an anechoic wind tunnel.', 'area': 'Physics and Chemistry', 'tasks': ['Regression'], 'characteristics': ['Multivariate'], 'num_instances': 1503, 'num_features': 5, 'feature_types': ['Real'], 'demographics': [], 'target_col': ['scaled-sound-pressure'], 'index_col': None, 'has_missing_values': 'no', 'missing_values_symbol': None, 'year_of_dataset_creation': 1989, 'last_updated': 'Fri Mar 29 2024', 'dataset_doi': '10.24432/C5VW2C', 'creators': ['Thomas Brooks', 'D. Pope', 'Michael Marcolini'], 'intro_paper': None, 'additional_info': {'summary': 'The NASA data set comprises different size NACA 0012 airfoils at various wind tunnel speeds and angles of attack. The span of the airfoil and the observer position were the same in all of the experiments. ', 'purpose': None, 'funded_by': None, 'instances_represent': None, 'recommended_data_splits': None, 'sensitive_data': None, 'preprocessing_description': None, 'variable_info': 'This problem has the following inputs:\\r\\n1. Frequency, in Hertzs. \\r\\n2. Angle of attack, in degrees. \\r\\n3. Chord length, in meters.\\r\\n4. Free-stream velocity, in meters per second. \\r\\n5. Suction side displacement thickness, in meters. \\r\\n\\r\\nThe only output is:\\r\\n6. Scaled sound pressure level, in decibels. \\r\\n', 'citation': None}}\n"
     ]
    }
   ],
   "source": [
    "#metadata\n",
    "print(airfoil_self_noise.metadata)"
   ]
  },
  {
   "cell_type": "code",
   "execution_count": 8,
   "id": "914bec32-3448-4ecf-8432-d25b86ced2e5",
   "metadata": {},
   "outputs": [
    {
     "name": "stdout",
     "output_type": "stream",
     "text": [
      "                                  name     role        type demographic  \\\n",
      "0                            frequency  Feature     Integer        None   \n",
      "1                         attack-angle  Feature      Binary        None   \n",
      "2                         chord-length  Feature  Continuous        None   \n",
      "3                 free-stream-velocity  Feature  Continuous        None   \n",
      "4  suction-side-displacement-thickness  Feature  Continuous        None   \n",
      "5                scaled-sound-pressure   Target  Continuous        None   \n",
      "\n",
      "  description units missing_values  \n",
      "0        None    Hz             no  \n",
      "1        None   deg             no  \n",
      "2        None     m             no  \n",
      "3        None   m/s             no  \n",
      "4        None     m             no  \n",
      "5        None    dB             no  \n"
     ]
    }
   ],
   "source": [
    "#Variable information\n",
    "print(airfoil_self_noise.variables)"
   ]
  },
  {
   "cell_type": "code",
   "execution_count": null,
   "id": "3af5258a-56d3-49db-9ce9-d49428f0c313",
   "metadata": {},
   "outputs": [],
   "source": []
  },
  {
   "cell_type": "code",
   "execution_count": 9,
   "id": "55f2e882-9ffc-4173-9553-68ac678ed29a",
   "metadata": {},
   "outputs": [],
   "source": [
    "#Combine features (X) and target (y) into a single DataFrame\n",
    "data = pd.concat([X, y], axis=1)"
   ]
  },
  {
   "cell_type": "code",
   "execution_count": 14,
   "id": "6ff5289e-cc4c-473c-9b38-14c33e094b12",
   "metadata": {},
   "outputs": [],
   "source": [
    "#Compute descriptive statistics\n",
    "descriptive_stats = {\n",
    "    \"Mean\":data.mean(),\n",
    "    \"Variance\":data.var(),\n",
    "    \"Standard Deviation\":data.std(),\n",
    "    \"Median\":data.median(),\n",
    "    \"Kurtosis\": kurtosis(data, fisher=False), #Fisher=False for Pearson's definition\n",
    "    \"Skewness\": skew(data),\n",
    "    \"Range\":data.max() - data.min()\n",
    "}"
   ]
  },
  {
   "cell_type": "code",
   "execution_count": 17,
   "id": "b0ff2fa8-be6a-4168-abbf-2e1a4e6edc43",
   "metadata": {},
   "outputs": [
    {
     "name": "stdout",
     "output_type": "stream",
     "text": [
      "                                            Mean      Variance  \\\n",
      "frequency                            2886.380572  9.938717e+06   \n",
      "attack-angle                            6.782302  3.502424e+01   \n",
      "chord-length                            0.136548  8.749868e-03   \n",
      "free-stream-velocity                   50.860745  2.425116e+02   \n",
      "suction-side-displacement-thickness     0.011140  1.729287e-04   \n",
      "scaled-sound-pressure                 124.835943  4.759146e+01   \n",
      "\n",
      "                                     Standard Deviation       Median  \\\n",
      "frequency                                   3152.573137  1600.000000   \n",
      "attack-angle                                   5.918128     5.400000   \n",
      "chord-length                                   0.093541     0.101600   \n",
      "free-stream-velocity                          15.572784    39.600000   \n",
      "suction-side-displacement-thickness            0.013150     0.004957   \n",
      "scaled-sound-pressure                          6.898657   125.721000   \n",
      "\n",
      "                                     Kurtosis  Skewness         Range  \n",
      "frequency                            8.685722  2.134951  19800.000000  \n",
      "attack-angle                         2.584432  0.688476     22.200000  \n",
      "chord-length                         1.961496  0.457001      0.279400  \n",
      "free-stream-velocity                 1.437257  0.235617     39.600000  \n",
      "suction-side-displacement-thickness  5.207539  1.700465      0.058011  \n",
      "scaled-sound-pressure                2.682868 -0.418534     37.607000  \n"
     ]
    }
   ],
   "source": [
    "#Converts the results to a Dataframe for better readability\n",
    "stats_df = pd.DataFrame(descriptive_stats)\n",
    "print(stats_df)"
   ]
  },
  {
   "cell_type": "code",
   "execution_count": null,
   "id": "876ff859-3443-4c3b-8c95-f9e4feb22fd4",
   "metadata": {},
   "outputs": [],
   "source": []
  }
 ],
 "metadata": {
  "kernelspec": {
   "display_name": "me592",
   "language": "python",
   "name": "me592"
  },
  "language_info": {
   "codemirror_mode": {
    "name": "ipython",
    "version": 3
   },
   "file_extension": ".py",
   "mimetype": "text/x-python",
   "name": "python",
   "nbconvert_exporter": "python",
   "pygments_lexer": "ipython3",
   "version": "3.11.11"
  }
 },
 "nbformat": 4,
 "nbformat_minor": 5
}
